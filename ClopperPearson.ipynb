{
  "nbformat": 4,
  "nbformat_minor": 0,
  "metadata": {
    "colab": {
      "provenance": [],
      "authorship_tag": "ABX9TyMAof4VPXsSN5HDSDHAYeU0",
      "include_colab_link": true
    },
    "kernelspec": {
      "name": "python3",
      "display_name": "Python 3"
    },
    "language_info": {
      "name": "python"
    }
  },
  "cells": [
    {
      "cell_type": "markdown",
      "metadata": {
        "id": "view-in-github",
        "colab_type": "text"
      },
      "source": [
        "<a href=\"https://colab.research.google.com/github/murakamisou202/Saisho-repo/blob/main/ClopperPearson.ipynb\" target=\"_parent\"><img src=\"https://colab.research.google.com/assets/colab-badge.svg\" alt=\"Open In Colab\"/></a>"
      ]
    },
    {
      "cell_type": "code",
      "execution_count": null,
      "metadata": {
        "id": "jb5CHerZ82QJ",
        "colab": {
          "base_uri": "https://localhost:8080/"
        },
        "outputId": "ae883402-77f3-4d89-b9a7-45541322db0b"
      },
      "outputs": [
        {
          "output_type": "stream",
          "name": "stdout",
          "text": [
            "Clopper-Pearson Confidence Interval (alpha=0.05):\n",
            "Lower Bound: 0.6247\n",
            "Upper Bound: 0.9753\n"
          ]
        }
      ],
      "source": [
        "# prompt: clopper pearson 母比率\n",
        "\n",
        "import numpy as np\n",
        "from scipy.stats import norm\n",
        "\n",
        "def clopper_pearson_proportion(x, n, alpha=0.05):\n",
        "  \"\"\"\n",
        "  Calculates the Clopper-Pearson confidence interval for a proportion.\n",
        "\n",
        "  Args:\n",
        "    x: The number of successes.\n",
        "    n: The total number of trials.\n",
        "    alpha: The significance level (default is 0.05).\n",
        "\n",
        "  Returns:\n",
        "    A tuple containing the lower and upper bounds of the confidence interval.\n",
        "  \"\"\"\n",
        "  if x == 0:\n",
        "    lower_bound = 0\n",
        "  else:\n",
        "    lower_bound = norm.ppf(alpha / 2, loc=x / n, scale=np.sqrt(x / n * (1 - x / n) / n))\n",
        "\n",
        "  if x == n:\n",
        "    upper_bound = 1\n",
        "  else:\n",
        "    upper_bound = norm.ppf(1 - alpha / 2, loc=x / n, scale=np.sqrt(x / n * (1 - x / n) / n))\n",
        "\n",
        "  return lower_bound, upper_bound\n",
        "\n",
        "\n",
        "# Example usage:\n",
        "x = 16  # Number of successes\n",
        "n = 20  # Total number of trials\n",
        "alpha = 0.05  # Significance level\n",
        "\n",
        "lower_bound, upper_bound = clopper_pearson_proportion(x, n, alpha)\n",
        "\n",
        "print(f\"Clopper-Pearson Confidence Interval (alpha={alpha}):\")\n",
        "print(f\"Lower Bound: {lower_bound:.4f}\")\n",
        "print(f\"Upper Bound: {upper_bound:.4f}\")\n"
      ]
    }
  ]
}